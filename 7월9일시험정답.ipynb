{
  "nbformat": 4,
  "nbformat_minor": 0,
  "metadata": {
    "colab": {
      "name": "7월9일시험정답.ipynb",
      "provenance": [],
      "authorship_tag": "ABX9TyNrvFFOeJNshX37kndF9grt",
      "include_colab_link": true
    },
    "kernelspec": {
      "name": "python3",
      "display_name": "Python 3"
    },
    "language_info": {
      "name": "python"
    }
  },
  "cells": [
    {
      "cell_type": "markdown",
      "metadata": {
        "id": "view-in-github",
        "colab_type": "text"
      },
      "source": [
        "<a href=\"https://colab.research.google.com/github/EG-L/Problem-Solving/blob/main/7%EC%9B%949%EC%9D%BC%EC%8B%9C%ED%97%98%EC%A0%95%EB%8B%B5.ipynb\" target=\"_parent\"><img src=\"https://colab.research.google.com/assets/colab-badge.svg\" alt=\"Open In Colab\"/></a>"
      ]
    },
    {
      "cell_type": "markdown",
      "metadata": {
        "id": "MetSmhhExlQQ"
      },
      "source": [
        "1. (하)class로 작성하시오.\n",
        "주사위 클래스 Dice를 설계하는데 메소드에는 roll()을 구현하여 주사위를 던져 나온 숫자를 화면에 출력하는 프로그램을 작성하시오.\n",
        "-단, 난수의 발생은 다음을 이용하라.\n",
        "- face = random.randint(1, 6)\n",
        "2. (상) 배스킨라빈스 31게임.\n",
        "<게임규칙>\n",
        "게의 참여자들은 차례를 정해 1부터 31까지의 수를 순차적으로 부른다. 한번에 1~3개까지 수를 연달아 부를 수 있으며, 마지막 31을 부른 사람이 진다.\n",
        "- 컴퓨터가 무조건 먼저 시작하고,1P는 무조건 2번째로 말한다.컴퓨터가 무조건 이기게 만들어라.\n",
        "<힌트 1> 4n-2라는 공식을 사용하면 됩니다.\n",
        "<힌트 2>이 게임은 31을 부르면 지는 게임이니 30을 부르면 이깁니다.\n",
        "3. (중) 내용에 맞게 코드를 작성하시오.\n",
        "괄호 문자열(Parenthesis String, PS)은 두 개의 괄호 기호인 ‘(’ 와 ‘)’ 만으로 구성되어 있는 문자열이다. 그 중에서 괄호의 모양이 바르게 구성된 문자열을 올바른 괄호 문자열(Valid PS, VPS)이라고 부른다. 한 쌍의 괄호 기호로 된 “( )” 문자열은 기본 VPS 이라고 부른다. 만일 x 가 VPS 라면 이것을 하나의 괄호에 넣은 새로운 문자열 “(x)”도 VPS 가 된다. 그리고 두 VPS x 와 y를 접합(concatenation)시킨 새로운 문자열 xy도 VPS 가 된다. 예를 들어 “(())()”와 “((()))” 는 VPS 이지만 “(()(”, “(())()))” , 그리고 “(()” 는 모두 VPS 가 아닌 문자열이다. \n",
        "여러분은 입력으로 주어진 괄호 문자열이 VPS 인지 아닌지를 판단해서 그 결과를 YES 와 NO 로 나타내어야 한다.\n",
        "4. 사칙연산은 Class로 작성하시오.\n",
        "주의) 내장함수를 사용하면 copy(0점)로 간주.\n",
        "- 생성자도 호출하시오."
      ]
    },
    {
      "cell_type": "code",
      "metadata": {
        "id": "hSPzxFFmx2D-"
      },
      "source": [
        "class Dice:\n",
        "  def __init__(self,count):\n",
        "    self.count = count\n",
        "  def roll(self):\n",
        "    import random\n",
        "    face = []\n",
        "    for i in range(1,self.count+1):\n",
        "      face.append(random.randint(1,6))\n",
        "    return face"
      ],
      "execution_count": null,
      "outputs": []
    },
    {
      "cell_type": "code",
      "metadata": {
        "colab": {
          "base_uri": "https://localhost:8080/"
        },
        "id": "1O5eAQm-1Q8T",
        "outputId": "d4c4add6-4409-42b7-ef49-811082de38a1"
      },
      "source": [
        "dice = Dice(int(input('몇 회를 던지시겠습니까? ')))"
      ],
      "execution_count": null,
      "outputs": [
        {
          "output_type": "stream",
          "text": [
            "몇 회를 던지시겠습니까? 10\n"
          ],
          "name": "stdout"
        }
      ]
    },
    {
      "cell_type": "code",
      "metadata": {
        "colab": {
          "base_uri": "https://localhost:8080/"
        },
        "id": "ovCITG3LzIL-",
        "outputId": "596e46d2-7e0a-4ca5-a997-a04e92be4478"
      },
      "source": [
        "print(dice.roll())"
      ],
      "execution_count": null,
      "outputs": [
        {
          "output_type": "stream",
          "text": [
            "[3, 3, 6, 5, 2, 6, 4, 4, 6, 6]\n"
          ],
          "name": "stdout"
        }
      ]
    },
    {
      "cell_type": "code",
      "metadata": {
        "id": "LWRrTkX813V-"
      },
      "source": [
        "class Dice:\n",
        "  def roll(self):\n",
        "    import random\n",
        "    face = random.randint(1,6)\n",
        "    return face\n",
        "dice = Dice()"
      ],
      "execution_count": null,
      "outputs": []
    },
    {
      "cell_type": "code",
      "metadata": {
        "colab": {
          "base_uri": "https://localhost:8080/"
        },
        "id": "yhPKRO0N13-d",
        "outputId": "58fd6643-c747-450c-a674-93f71d3d6243"
      },
      "source": [
        "count = int(input('몇 회를 던지시겠습니까? '))\n",
        "for i in range(1,count+1):\n",
        "  print(dice.roll())"
      ],
      "execution_count": null,
      "outputs": [
        {
          "output_type": "stream",
          "text": [
            "몇 회를 던지시겠습니까? 5\n",
            "6\n",
            "5\n",
            "5\n",
            "4\n",
            "3\n"
          ],
          "name": "stdout"
        }
      ]
    },
    {
      "cell_type": "code",
      "metadata": {
        "id": "HUEPsYwDzZO9"
      },
      "source": [
        "###################################################################################"
      ],
      "execution_count": null,
      "outputs": []
    },
    {
      "cell_type": "code",
      "metadata": {
        "id": "foz40wBD1nDZ",
        "colab": {
          "base_uri": "https://localhost:8080/"
        },
        "outputId": "fbc1bcee-8802-4eb3-c97a-c7947989a639"
      },
      "source": [
        "count = 0\n",
        "n = 1\n",
        "print('31게임을 시작하겠습니다.')\n",
        "while True:\n",
        "  temp = (4*n)-2-count\n",
        "  count+=temp\n",
        "  print('컴퓨터 숫자 {}를 불렀습니다. 현재 카운팅 {}'.format(temp,count))\n",
        "  n+=1\n",
        "  if count == 30:\n",
        "    print('컴퓨터가 이겼습니다.')\n",
        "    break\n",
        "  while True:\n",
        "    p_count = int(input('1~3 사이의 숫자를 불러주세요 : '))\n",
        "    if 0<p_count & p_count<=3:\n",
        "      break\n",
        "    else:\n",
        "      print('잘못된 숫자를 입력하셨습니다. 다시 입력해주세요.')\n",
        "  count+=p_count\n",
        "  print('플레이어가 숫자 {}를 불렀습니다. 현재 카운팅 {}'.format(p_count,count))\n",
        "  if count == 30:\n",
        "    print('플레이어가 이겼습니다.')\n",
        "    break"
      ],
      "execution_count": 10,
      "outputs": [
        {
          "output_type": "stream",
          "text": [
            "31게임을 시작하겠습니다.\n",
            "컴퓨터 숫자 2를 불렀습니다. 현재 카운팅 2\n",
            "1~3 사이의 숫자를 불러주세요 : 3\n",
            "플레이어가 숫자 3를 불렀습니다. 현재 카운팅 5\n",
            "컴퓨터 숫자 1를 불렀습니다. 현재 카운팅 6\n",
            "1~3 사이의 숫자를 불러주세요 : 4\n",
            "잘못된 숫자를 입력하셨습니다. 다시 입력해주세요.\n",
            "1~3 사이의 숫자를 불러주세요 : 3\n",
            "플레이어가 숫자 3를 불렀습니다. 현재 카운팅 9\n",
            "컴퓨터 숫자 1를 불렀습니다. 현재 카운팅 10\n",
            "1~3 사이의 숫자를 불러주세요 : 3\n",
            "플레이어가 숫자 3를 불렀습니다. 현재 카운팅 13\n",
            "컴퓨터 숫자 1를 불렀습니다. 현재 카운팅 14\n",
            "1~3 사이의 숫자를 불러주세요 : 2\n",
            "플레이어가 숫자 2를 불렀습니다. 현재 카운팅 16\n",
            "컴퓨터 숫자 2를 불렀습니다. 현재 카운팅 18\n",
            "1~3 사이의 숫자를 불러주세요 : 1\n",
            "플레이어가 숫자 1를 불렀습니다. 현재 카운팅 19\n",
            "컴퓨터 숫자 3를 불렀습니다. 현재 카운팅 22\n",
            "1~3 사이의 숫자를 불러주세요 : 1\n",
            "플레이어가 숫자 1를 불렀습니다. 현재 카운팅 23\n",
            "컴퓨터 숫자 3를 불렀습니다. 현재 카운팅 26\n",
            "1~3 사이의 숫자를 불러주세요 : 3\n",
            "플레이어가 숫자 3를 불렀습니다. 현재 카운팅 29\n",
            "컴퓨터 숫자 1를 불렀습니다. 현재 카운팅 30\n",
            "컴퓨터가 이겼습니다.\n"
          ],
          "name": "stdout"
        }
      ]
    },
    {
      "cell_type": "code",
      "metadata": {
        "id": "KGXUFhqVegmQ"
      },
      "source": [
        "###################################################################################"
      ],
      "execution_count": null,
      "outputs": []
    },
    {
      "cell_type": "code",
      "metadata": {
        "id": "tELvkq4M4M1u",
        "colab": {
          "base_uri": "https://localhost:8080/"
        },
        "outputId": "5acc6901-53ee-4ede-89c5-b895e2e6a45f"
      },
      "source": [
        "def PS(t):\n",
        "  t = [t[i] for i in range(len(t))]\n",
        "  temp = []\n",
        "  count_left = 0\n",
        "  count_right = 0\n",
        "  while True:\n",
        "    if len(t) == 0:\n",
        "      if pop_t == '(' or count_left != count_right:\n",
        "        return False\n",
        "      else:\n",
        "        return True\n",
        "    else:\n",
        "      pop_t = t.pop(0)\n",
        "      temp.append(pop_t)\n",
        "      if pop_t == '(':\n",
        "        count_left+=1\n",
        "      else:\n",
        "        count_right+=1\n",
        "      if count_left<count_right:\n",
        "        return False\n",
        "\n",
        "ps = PS(input('괄호를 입력해주세요 : '))\n",
        "print(ps)"
      ],
      "execution_count": 45,
      "outputs": [
        {
          "output_type": "stream",
          "text": [
            "괄호를 입력해주세요 : (()\n",
            "False\n"
          ],
          "name": "stdout"
        }
      ]
    },
    {
      "cell_type": "code",
      "metadata": {
        "id": "oauzPLX-AgBf"
      },
      "source": [
        "###################################################################################"
      ],
      "execution_count": null,
      "outputs": []
    },
    {
      "cell_type": "code",
      "metadata": {
        "id": "UO73x-Fx4NAn"
      },
      "source": [
        "class Sachick:\n",
        "  def __init__(self,a,b):\n",
        "    self.a = a\n",
        "    self.b = b\n",
        "  def add(self):\n",
        "    return '{}+{} = {}'.format(self.a,self.b,self.a+self.b)\n",
        "  def sub(self):\n",
        "    return '{}-{} = {}'.format(self.a,self.b,self.a-self.b)\n",
        "  def mul(self):\n",
        "    return '{}*{} = {}'.format(self.a,self.b,self.a*self.b)\n",
        "  def div(self):\n",
        "    try:\n",
        "      return '{}/{} = {}'.format(self.a,selfb,self.a/self.b)\n",
        "    except:\n",
        "      return 0"
      ],
      "execution_count": 14,
      "outputs": []
    },
    {
      "cell_type": "code",
      "metadata": {
        "colab": {
          "base_uri": "https://localhost:8080/"
        },
        "id": "arVFLJkm40Dd",
        "outputId": "df323f8a-b6f6-4825-d6d7-1c1111b6f873"
      },
      "source": [
        "a = int(input('첫 번째 숫자를 입력해주세요 : '))\n",
        "b = int(input('두 번째 숫자를 입력해주세요 : '))\n",
        "sachick = Sachick(a,b)"
      ],
      "execution_count": 17,
      "outputs": [
        {
          "output_type": "stream",
          "text": [
            "첫 번째 숫자를 입력해주세요 : 3\n",
            "두 번째 숫자를 입력해주세요 : 5\n"
          ],
          "name": "stdout"
        }
      ]
    },
    {
      "cell_type": "code",
      "metadata": {
        "colab": {
          "base_uri": "https://localhost:8080/"
        },
        "id": "7BgDh5ov42ps",
        "outputId": "88a4c948-844a-4d04-81d5-8da8d4fcd37f"
      },
      "source": [
        "temp = input('하고 싶은 계산 숫자 1. 더하기 2. 빼기 3. 곱하기 4. 나누기 : ')\n",
        "if temp == '1':\n",
        "  print(sachick.add())\n",
        "elif temp == '2':\n",
        "  print(sachick.sub())\n",
        "elif temp == '3':\n",
        "  print(sachick.mul())\n",
        "else:\n",
        "  print(sachick.div())"
      ],
      "execution_count": 18,
      "outputs": [
        {
          "output_type": "stream",
          "text": [
            "하고 싶은 계산 숫자 1. 더하기 2. 빼기 3. 곱하기 4. 나누기 : 1\n",
            "3+5 = 8\n"
          ],
          "name": "stdout"
        }
      ]
    },
    {
      "cell_type": "code",
      "metadata": {
        "id": "5E7u1XQdvQT6"
      },
      "source": [
        ""
      ],
      "execution_count": null,
      "outputs": []
    }
  ]
}